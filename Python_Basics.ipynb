{
  "cells": [
    {
      "cell_type": "markdown",
      "id": "0dd96647-6f8f-42a2-ae40-9a2cfe76280a",
      "metadata": {
        "id": "0dd96647-6f8f-42a2-ae40-9a2cfe76280a"
      },
      "source": [
        "<h1> Contents: </h1>\n",
        "1. Assignment of variables  <br />\n",
        "2. Operators <br />\n",
        "3. Lists, tuples, sets and dictionaries <br />\n",
        "4. Loops <br />\n",
        "5. Defining a function <br />\n",
        "6. Package usage <br />"
      ]
    },
    {
      "cell_type": "markdown",
      "id": "23d1f132-ade5-4eb5-9ff3-5180ebe4dc7f",
      "metadata": {
        "tags": [],
        "id": "23d1f132-ade5-4eb5-9ff3-5180ebe4dc7f"
      },
      "source": [
        "### Assignment of variables "
      ]
    },
    {
      "cell_type": "code",
      "execution_count": null,
      "id": "7cd34e65-7eaa-4d93-8862-4e9b851a2519",
      "metadata": {
        "id": "7cd34e65-7eaa-4d93-8862-4e9b851a2519"
      },
      "outputs": [],
      "source": [
        "# assigning variable names using '='\n",
        "a = 10\n",
        "b = 15\n",
        "c = 5.5 "
      ]
    },
    {
      "cell_type": "code",
      "source": [
        "type(a)"
      ],
      "metadata": {
        "colab": {
          "base_uri": "https://localhost:8080/"
        },
        "id": "04Ymv9xPnipa",
        "outputId": "6f86ecd7-17c4-4994-8446-b0c7f9cf94a7"
      },
      "id": "04Ymv9xPnipa",
      "execution_count": null,
      "outputs": [
        {
          "output_type": "execute_result",
          "data": {
            "text/plain": [
              "int"
            ]
          },
          "metadata": {},
          "execution_count": 4
        }
      ]
    },
    {
      "cell_type": "markdown",
      "id": "d410b2c4-3cc1-4344-8eea-52e0a07cb5bf",
      "metadata": {
        "id": "d410b2c4-3cc1-4344-8eea-52e0a07cb5bf"
      },
      "source": [
        "**print()** --> Displays the value of variable "
      ]
    },
    {
      "cell_type": "code",
      "execution_count": null,
      "id": "c32da0b3-eaeb-4b93-89ac-7b896b1a7eba",
      "metadata": {
        "id": "c32da0b3-eaeb-4b93-89ac-7b896b1a7eba",
        "colab": {
          "base_uri": "https://localhost:8080/"
        },
        "outputId": "393158f4-e2c9-4de1-adac-d202109b4d1a"
      },
      "outputs": [
        {
          "output_type": "stream",
          "name": "stdout",
          "text": [
            "Sum of a and b is 25\n",
            "Product of c and b is 82.5\n"
          ]
        }
      ],
      "source": [
        "# Displaying value of a+b and c*b\n",
        "print('Sum of a and b is', a+b) \n",
        "print('Product of c and b is', c*b)"
      ]
    },
    {
      "cell_type": "markdown",
      "id": "caa90878-f16f-4637-8746-ebe1554fbd50",
      "metadata": {
        "id": "caa90878-f16f-4637-8746-ebe1554fbd50"
      },
      "source": [
        "**str()** --> to change the variable to a string <br />\n",
        "**int()** --> to change the variable to an integer; convert floating point numbers/strings to integers <br />\n",
        "**float()** --> to change the variable to a floating point number <br />\n",
        "**type()** --> to check the datatype/object type <br />"
      ]
    },
    {
      "cell_type": "code",
      "execution_count": null,
      "id": "66117278-6029-47dc-9ead-ff7c8f00ba8d",
      "metadata": {
        "id": "66117278-6029-47dc-9ead-ff7c8f00ba8d",
        "colab": {
          "base_uri": "https://localhost:8080/"
        },
        "outputId": "8a90750b-55b3-4f2e-ce40-235176a6b2ab"
      },
      "outputs": [
        {
          "output_type": "stream",
          "name": "stdout",
          "text": [
            "The values of a_str,b_float,c_int are 10 15.0 5 respectively\n",
            "variable type: <class 'str'> <class 'float'> <class 'int'>\n"
          ]
        }
      ],
      "source": [
        "# Change the datatype\n",
        "a = str(a) # to a string\n",
        "b = float(b) # to a float\n",
        "c = int(c) # to a integer\n",
        "\n",
        "print('The values of a_str,b_float,c_int are', a, b, c,'respectively')\n",
        "print('variable type:', type(a),type(b),type(c))"
      ]
    },
    {
      "cell_type": "markdown",
      "source": [
        "**Exercise questions:**\n",
        "\n",
        "Create a variable x, obtain the user input for x and report the type of variable x"
      ],
      "metadata": {
        "id": "KZ7_jiYtkq_g"
      },
      "id": "KZ7_jiYtkq_g"
    },
    {
      "cell_type": "markdown",
      "id": "f908f16d-cb3c-47e9-82df-78857f32e1b9",
      "metadata": {
        "tags": [],
        "id": "f908f16d-cb3c-47e9-82df-78857f32e1b9"
      },
      "source": [
        "### Sequences\n",
        "Strings, lists and tuples are sequences. They can be indexed and sliced in the same way.\n",
        "\n",
        "Tuples and strings are “immutable” (which basically means we can’t change individual elements within the tuple, and we cannot change individual characters within a string) whereas lists are “mutable” (.i.e we can change elements in a list.)\n",
        "\n",
        "Sequences share the following operations\n",
        "\n",
        "- a[i] returns i-th element of a\n",
        "- a[i:j] returns elements i up to j-1\n",
        "- len(a) returns number of elements in sequence\n",
        "- min(a) returns smallest value in sequence\n",
        "- max(a) returns largest value in sequence\n",
        "- x in a returns True if x is element in a\n",
        "- a + b concatenates a and b\n",
        "n * a creates n copies of sequence a"
      ]
    },
    {
      "cell_type": "code",
      "execution_count": null,
      "id": "6aa613f0-b9ef-49ee-b6e9-417135d485b0",
      "metadata": {
        "id": "6aa613f0-b9ef-49ee-b6e9-417135d485b0",
        "colab": {
          "base_uri": "https://localhost:8080/"
        },
        "outputId": "2d0ab6f4-1282-44f8-d8b7-b87c464dcfa7"
      },
      "outputs": [
        {
          "output_type": "stream",
          "name": "stdout",
          "text": [
            "Hello World\n",
            "['Hello', 'World']\n"
          ]
        }
      ],
      "source": [
        "# Concatenation of strings\n",
        "s1 = 'Hello '\n",
        "s2 = 'World'\n",
        "s3 = s1+s2\n",
        "print(s3)\n",
        "print(s3.split( ))"
      ]
    },
    {
      "cell_type": "markdown",
      "source": [
        "**Exercise questions**\n",
        "\n",
        "a. Print a sentence of your name and college from a separate variables *name* and *college* \n",
        "\n",
        "b. Report the length of your name \n"
      ],
      "metadata": {
        "id": "1Oq-2UoqloIz"
      },
      "id": "1Oq-2UoqloIz"
    },
    {
      "cell_type": "markdown",
      "id": "14620067-568a-4b9f-a1e0-cd1f0ac35731",
      "metadata": {
        "tags": [],
        "id": "14620067-568a-4b9f-a1e0-cd1f0ac35731"
      },
      "source": [
        "### Lists\n"
      ]
    },
    {
      "cell_type": "code",
      "execution_count": 1,
      "id": "2a8dc676-e951-4b3a-9cf6-3658513bdf8f",
      "metadata": {
        "id": "2a8dc676-e951-4b3a-9cf6-3658513bdf8f",
        "colab": {
          "base_uri": "https://localhost:8080/"
        },
        "outputId": "a1db525f-0ce4-4a56-c781-285638b64c42"
      },
      "outputs": [
        {
          "output_type": "stream",
          "name": "stdout",
          "text": [
            "['Welcome', 7, 9.99, ('Welcome', 'To'), ['Summer ', 'School']]\n"
          ]
        }
      ],
      "source": [
        "# creating a list\n",
        "string = ['Welcome', 7, 9.99,('Welcome','To'),  [ 'Summer ', 'School']] # creating a list using square_brackets\n",
        "print(string)"
      ]
    },
    {
      "cell_type": "code",
      "execution_count": null,
      "id": "b3caaa8d-1b8c-47d4-93f6-3e5d01143b2b",
      "metadata": {
        "id": "b3caaa8d-1b8c-47d4-93f6-3e5d01143b2b",
        "colab": {
          "base_uri": "https://localhost:8080/"
        },
        "outputId": "010a6c01-4697-445a-8b53-7d3b4966d8bd"
      },
      "outputs": [
        {
          "output_type": "stream",
          "name": "stdout",
          "text": [
            "The mutated list ['Hello', 'Everyone', ('Welcome', 'To'), 'Course']\n",
            "first two items of the list ['Hello', 'Everyone']\n"
          ]
        }
      ],
      "source": [
        "# mutablility of the list --> values inside a list can be mutated/changed\n",
        "list_1[0] = 'Hello' # in python indexing begins with 0 instead of 1\n",
        "list_1[-1] = 'Course' # -1 refers to last element of the list\n",
        "print('The mutated list',list_1) \n",
        "print('first two items of the list',list_1[0:2]) "
      ]
    },
    {
      "cell_type": "code",
      "execution_count": null,
      "id": "0ed4a8eb-acd7-47ff-ac75-a70242692738",
      "metadata": {
        "id": "0ed4a8eb-acd7-47ff-ac75-a70242692738",
        "colab": {
          "base_uri": "https://localhost:8080/"
        },
        "outputId": "8ca0959e-d1f0-42a9-c6ea-5f5459ea55d4"
      },
      "outputs": [
        {
          "output_type": "stream",
          "name": "stdout",
          "text": [
            "Hello\n",
            "Everyone\n",
            "('Welcome', 'To')\n",
            "Course\n"
          ]
        }
      ],
      "source": [
        "# Iteratability of the list\n",
        "for i in list_1:\n",
        "    print(i)"
      ]
    },
    {
      "cell_type": "markdown",
      "id": "63de7d63-f51a-4c09-bb73-7d973d2a26a2",
      "metadata": {
        "tags": [],
        "id": "63de7d63-f51a-4c09-bb73-7d973d2a26a2"
      },
      "source": [
        "#### Useful functions for a list\n",
        "**.append(i)** --> adds an element i in the list <br />\n",
        "**.extend(lst)** --> expands the list by including another list lst <br />\n",
        "**.insert(i,j)** --> inserts a new element j in specified index i <br />\n",
        "**.sort()** --> sorts the list <br />\n",
        "**.remove(i)** --> removes the element i in the list <br />"
      ]
    },
    {
      "cell_type": "code",
      "execution_count": null,
      "id": "8de8077f-a2f7-477c-b398-e25c85678ddb",
      "metadata": {
        "id": "8de8077f-a2f7-477c-b398-e25c85678ddb",
        "colab": {
          "base_uri": "https://localhost:8080/"
        },
        "outputId": "9dd861ee-3395-4966-8324-e8de347be811"
      },
      "outputs": [
        {
          "output_type": "stream",
          "name": "stdout",
          "text": [
            "[0, 1, 2, 3, 4]\n"
          ]
        }
      ],
      "source": [
        "# Creating list using range()\n",
        "x = list(range(5))\n",
        "print(x)"
      ]
    },
    {
      "cell_type": "code",
      "execution_count": null,
      "id": "7db2b07a-4233-44a0-bd99-3ee853415f93",
      "metadata": {
        "id": "7db2b07a-4233-44a0-bd99-3ee853415f93",
        "colab": {
          "base_uri": "https://localhost:8080/"
        },
        "outputId": "dd0768f5-87ce-4873-e5a8-c4ba6ad24302"
      },
      "outputs": [
        {
          "output_type": "stream",
          "name": "stdout",
          "text": [
            "[0, 1, 2, 3, 4, 10]\n"
          ]
        }
      ],
      "source": [
        "x.append(10)\n",
        "print(x)"
      ]
    },
    {
      "cell_type": "code",
      "execution_count": null,
      "id": "44b7c6e8-7566-4a4d-a901-2d5df153f533",
      "metadata": {
        "id": "44b7c6e8-7566-4a4d-a901-2d5df153f533",
        "colab": {
          "base_uri": "https://localhost:8080/"
        },
        "outputId": "cde3d3fd-e8a9-4ece-bb3c-5b3626e862be"
      },
      "outputs": [
        {
          "output_type": "stream",
          "name": "stdout",
          "text": [
            "[0, 1, 2, 4, 10]\n"
          ]
        }
      ],
      "source": [
        "x.remove(3)\n",
        "print(x)"
      ]
    },
    {
      "cell_type": "code",
      "execution_count": null,
      "id": "d06b7074-d0a5-42a2-b7a8-3215f69c900d",
      "metadata": {
        "id": "d06b7074-d0a5-42a2-b7a8-3215f69c900d",
        "colab": {
          "base_uri": "https://localhost:8080/"
        },
        "outputId": "c5925106-8bb4-4be6-e3cf-8b12dbd84929"
      },
      "outputs": [
        {
          "output_type": "stream",
          "name": "stdout",
          "text": [
            "0\n",
            "1\n",
            "4\n",
            "9\n",
            "16\n",
            "25\n",
            "36\n"
          ]
        }
      ],
      "source": [
        "# range() creates a sequence from 0 to n-1 \n",
        "# and frequently used for loops.\n",
        "for s in range(7):#(0,1,2,3)\n",
        "  print(s ** 2) #**Exponentiation (power)"
      ]
    },
    {
      "cell_type": "markdown",
      "source": [
        "**Exercise questions**\n",
        "\n",
        "Create a list with your favourites in the order of number, fruit, subject and sweet and print only the favorite fruit and subject"
      ],
      "metadata": {
        "id": "buLoKz3Sr_06"
      },
      "id": "buLoKz3Sr_06"
    },
    {
      "cell_type": "markdown",
      "id": "223ac19f-217b-4891-b70b-292434801aba",
      "metadata": {
        "tags": [],
        "id": "223ac19f-217b-4891-b70b-292434801aba"
      },
      "source": [
        "### Operators\n",
        "1. Arithmetic operators: +, -, *, /, **, //, %\n",
        "2. Boolean Expressions: returns True or False \n",
        "3. Relational operators:  ==, <=, <, >, >=, !=  \n",
        "4. Logical Operators: and, or, not"
      ]
    },
    {
      "cell_type": "code",
      "execution_count": null,
      "id": "3c476592-0579-4ce2-9f2b-501656155c3d",
      "metadata": {
        "id": "3c476592-0579-4ce2-9f2b-501656155c3d",
        "colab": {
          "base_uri": "https://localhost:8080/"
        },
        "outputId": "3647712c-4e82-45b8-d49e-b53e8fc7af92"
      },
      "outputs": [
        {
          "output_type": "stream",
          "name": "stdout",
          "text": [
            "r1= True\n",
            "R2= False\n"
          ]
        }
      ],
      "source": [
        "# Relational operators\n",
        "r1 = 3 == 9/3\n",
        "print(\"r1=\",r1)\n",
        "r2 = -3 >= -2\n",
        "print(\"R2=\",r2)"
      ]
    },
    {
      "cell_type": "code",
      "source": [
        "s=str(input(\"Enter a string\"))\n",
        "print(\"statement entered =\",s)"
      ],
      "metadata": {
        "colab": {
          "base_uri": "https://localhost:8080/"
        },
        "id": "1Ou36Abd6dor",
        "outputId": "6e604b70-9c40-4935-c86e-c7b291c9abcc"
      },
      "id": "1Ou36Abd6dor",
      "execution_count": null,
      "outputs": [
        {
          "output_type": "stream",
          "name": "stdout",
          "text": [
            "Enter a stringswa\n",
            "statement entered = swa\n"
          ]
        }
      ]
    },
    {
      "cell_type": "code",
      "execution_count": null,
      "id": "a861d9cb-b855-4198-89c2-7425f90926c4",
      "metadata": {
        "id": "a861d9cb-b855-4198-89c2-7425f90926c4",
        "colab": {
          "base_uri": "https://localhost:8080/"
        },
        "outputId": "bbd9ec65-912e-444b-e270-01667c0318ce"
      },
      "outputs": [
        {
          "output_type": "stream",
          "name": "stdout",
          "text": [
            "Values of r3:%r, r4:%r, r5:%r (False, True, False)\n",
            "\n"
          ]
        }
      ],
      "source": [
        "# Boolean operators\n",
        "r3 = r1 and r2 #true and false\n",
        "r4 = r1 or r2  \n",
        "r5 = not r1\n",
        "print('Values of r3:%r, r4:%r, r5:%r',(r3, r4, r5))\n",
        "print()"
      ]
    },
    {
      "cell_type": "code",
      "execution_count": null,
      "id": "b3bd36c4-baf8-48ae-9da4-86d46d6e0b08",
      "metadata": {
        "id": "b3bd36c4-baf8-48ae-9da4-86d46d6e0b08",
        "colab": {
          "base_uri": "https://localhost:8080/"
        },
        "outputId": "f356987c-97c3-4f20-83de-c278429b8f48"
      },
      "outputs": [
        {
          "output_type": "stream",
          "name": "stdout",
          "text": [
            "20\n",
            "0\n",
            "100\n",
            "1.0\n",
            "0\n"
          ]
        }
      ],
      "source": [
        "# Arithmetic operators\n",
        "var1, var2 = 10, 10\n",
        "print(var1+var2)    # Addition \n",
        "print(var1 - var2)  # Subtraction\n",
        "print(var1 * var2)  # Multiplication\n",
        "print(var1 / var2)  # Division #gives quotient\n",
        "print(var1 % var2)  # Modulus #gives reminder"
      ]
    },
    {
      "cell_type": "markdown",
      "source": [
        "**Exercise question:**\n",
        "\n",
        "Check whether the following questions are true or false\n",
        "\n",
        "a. 2.5 == 5/2  \n",
        "b. 22/7 == 3.14  "
      ],
      "metadata": {
        "id": "s4-6l1k1tdTf"
      },
      "id": "s4-6l1k1tdTf"
    },
    {
      "cell_type": "markdown",
      "id": "e129f40f-a3ac-442f-9698-b0fd63b14d7f",
      "metadata": {
        "tags": [],
        "id": "e129f40f-a3ac-442f-9698-b0fd63b14d7f"
      },
      "source": [
        "### Tuples\n",
        "    A tuple is a (immutable) sequence of objects and the objects in the sequence can be of nay data type."
      ]
    },
    {
      "cell_type": "code",
      "execution_count": null,
      "id": "8beca5f7-409a-42f6-b72c-6c811ae858c6",
      "metadata": {
        "id": "8beca5f7-409a-42f6-b72c-6c811ae858c6",
        "colab": {
          "base_uri": "https://localhost:8080/"
        },
        "outputId": "f9b0cc92-d561-4070-88bd-dd123132fb02"
      },
      "outputs": [
        {
          "output_type": "execute_result",
          "data": {
            "text/plain": [
              "('One', 2, 'Three', [4.0])"
            ]
          },
          "metadata": {},
          "execution_count": 40
        }
      ],
      "source": [
        "# Creating a tuple object\n",
        "t1 = ('One',2,'Three',[4.0])\n",
        "t1"
      ]
    },
    {
      "cell_type": "code",
      "execution_count": null,
      "id": "230d1765-0887-48cd-8ff0-fea1ad7e720d",
      "metadata": {
        "id": "230d1765-0887-48cd-8ff0-fea1ad7e720d",
        "colab": {
          "base_uri": "https://localhost:8080/",
          "height": 36
        },
        "outputId": "2b6c580c-71ca-4978-fdb1-98d253b7e728"
      },
      "outputs": [
        {
          "output_type": "execute_result",
          "data": {
            "text/plain": [
              "'Three'"
            ],
            "application/vnd.google.colaboratory.intrinsic+json": {
              "type": "string"
            }
          },
          "metadata": {},
          "execution_count": 41
        }
      ],
      "source": [
        "#Immutability of tuple\n",
        "t1[2]"
      ]
    },
    {
      "cell_type": "code",
      "execution_count": null,
      "id": "d1727313-1e89-4cb5-9fdf-8ba8f03fc613",
      "metadata": {
        "id": "d1727313-1e89-4cb5-9fdf-8ba8f03fc613",
        "colab": {
          "base_uri": "https://localhost:8080/"
        },
        "outputId": "7787da7d-8edb-40de-a1dc-f593392d2010"
      },
      "outputs": [
        {
          "output_type": "stream",
          "name": "stdout",
          "text": [
            "One\n",
            "2\n",
            "Three\n",
            "[4.0]\n"
          ]
        }
      ],
      "source": [
        "# iteratability of tuple\n",
        "for i in t1:\n",
        "    print(i)"
      ]
    },
    {
      "cell_type": "markdown",
      "id": "387c1e29-8621-4734-a66a-5426fdb41871",
      "metadata": {
        "tags": [],
        "id": "387c1e29-8621-4734-a66a-5426fdb41871"
      },
      "source": [
        "### Set"
      ]
    },
    {
      "cell_type": "code",
      "execution_count": null,
      "id": "742ecbf2-519c-4673-95fa-658f8f361d7c",
      "metadata": {
        "id": "742ecbf2-519c-4673-95fa-658f8f361d7c",
        "colab": {
          "base_uri": "https://localhost:8080/"
        },
        "outputId": "fa9c2965-76d6-4fa1-8728-8fa2591c0a43"
      },
      "outputs": [
        {
          "output_type": "execute_result",
          "data": {
            "text/plain": [
              "{0, 1, 2, 5, 6, 9, 'a', 'abc'}"
            ]
          },
          "metadata": {},
          "execution_count": 35
        }
      ],
      "source": [
        "set1 = {0,2,6,9,1,5,2,9,'a','abc'}\n",
        "set1"
      ]
    },
    {
      "cell_type": "code",
      "source": [
        "set1 = {0,2,6,9,1,5,2,9,'a','abc'}\n",
        "set1  #unordered"
      ],
      "metadata": {
        "colab": {
          "base_uri": "https://localhost:8080/"
        },
        "id": "D0A8uo2wunOu",
        "outputId": "f31d7c73-3614-47c4-9305-765ca9de14b0"
      },
      "id": "D0A8uo2wunOu",
      "execution_count": null,
      "outputs": [
        {
          "output_type": "execute_result",
          "data": {
            "text/plain": [
              "{0, 1, 2, 5, 6, 9, 'a', 'abc'}"
            ]
          },
          "metadata": {},
          "execution_count": 38
        }
      ]
    },
    {
      "cell_type": "markdown",
      "id": "fee30790-fc59-4f39-a654-4a7ad2bfdcd0",
      "metadata": {
        "id": "fee30790-fc59-4f39-a654-4a7ad2bfdcd0"
      },
      "source": [
        "Note that set cannot store list in it (throws an error) and they cannot have duplicate items (it automatically removes '9' repeated twice). Also, the order is lost in a set."
      ]
    },
    {
      "cell_type": "code",
      "execution_count": null,
      "id": "f56e2b5c-0cc9-4499-aed2-18a9765cf9cc",
      "metadata": {
        "id": "f56e2b5c-0cc9-4499-aed2-18a9765cf9cc",
        "colab": {
          "base_uri": "https://localhost:8080/"
        },
        "outputId": "52801451-1fdd-4dac-f601-c623b7a085cf"
      },
      "outputs": [
        {
          "output_type": "stream",
          "name": "stdout",
          "text": [
            "0\n",
            "1\n",
            "2\n",
            "5\n",
            "6\n",
            "9\n",
            "a\n",
            "abc\n"
          ]
        }
      ],
      "source": [
        "# iteratability of set\n",
        "for i in set1:\n",
        "    print(i)"
      ]
    },
    {
      "cell_type": "code",
      "execution_count": null,
      "id": "0f1446b3-3f5c-4bcb-928e-c3c221e411e8",
      "metadata": {
        "id": "0f1446b3-3f5c-4bcb-928e-c3c221e411e8",
        "colab": {
          "base_uri": "https://localhost:8080/",
          "height": 169
        },
        "outputId": "8996c851-d019-49c6-fa54-140d243b6d51"
      },
      "outputs": [
        {
          "output_type": "error",
          "ename": "TypeError",
          "evalue": "ignored",
          "traceback": [
            "\u001b[0;31m---------------------------------------------------------------------------\u001b[0m",
            "\u001b[0;31mTypeError\u001b[0m                                 Traceback (most recent call last)",
            "\u001b[0;32m<ipython-input-25-325e2613484a>\u001b[0m in \u001b[0;36m<module>\u001b[0;34m()\u001b[0m\n\u001b[0;32m----> 1\u001b[0;31m \u001b[0mset1\u001b[0m\u001b[0;34m[\u001b[0m\u001b[0;36m4\u001b[0m\u001b[0;34m]\u001b[0m \u001b[0;34m=\u001b[0m \u001b[0;36m1\u001b[0m\u001b[0;34m\u001b[0m\u001b[0;34m\u001b[0m\u001b[0m\n\u001b[0m",
            "\u001b[0;31mTypeError\u001b[0m: 'set' object does not support item assignment"
          ]
        }
      ],
      "source": [
        "set1[4] = 1 #since unordered"
      ]
    },
    {
      "cell_type": "code",
      "execution_count": null,
      "id": "6083c532-0c63-4d91-a9a6-48e0e6ad3749",
      "metadata": {
        "id": "6083c532-0c63-4d91-a9a6-48e0e6ad3749",
        "colab": {
          "base_uri": "https://localhost:8080/"
        },
        "outputId": "fc4da743-e814-4e54-8625-9de6cb20eef9"
      },
      "outputs": [
        {
          "output_type": "stream",
          "name": "stdout",
          "text": [
            "{0, 1, 2, 6, 9, 'a', 'abc'}\n",
            "{0, 1, 2, 6, 9, 11, 'a', 'abc'}\n"
          ]
        }
      ],
      "source": [
        "# Set is mutable but not using indices\n",
        "set1.remove(5)\n",
        "print(set1)\n",
        "set1.add(11)\n",
        "print(set1)"
      ]
    },
    {
      "cell_type": "markdown",
      "id": "32410130-b33e-4cc4-be16-a4b05dac6f5e",
      "metadata": {
        "tags": [],
        "id": "32410130-b33e-4cc4-be16-a4b05dac6f5e"
      },
      "source": [
        "### Dictionary\n",
        "   Dictionaries are also called “associative arrays” and “hash tables”. Dictionaries are unordered sets of key-value pairs."
      ]
    },
    {
      "cell_type": "code",
      "execution_count": null,
      "id": "a939b555-aee5-4757-91d5-bfa3af8750c8",
      "metadata": {
        "id": "a939b555-aee5-4757-91d5-bfa3af8750c8"
      },
      "outputs": [],
      "source": [
        "# Creating a dictionary\n",
        "temp1 = {'Today' : '22 deg C', 'Yesterday' : '24 deg C',2:45} \n",
        "temp2 = dict( Tomorrow = 'Unknown')"
      ]
    },
    {
      "cell_type": "code",
      "source": [
        "temp1"
      ],
      "metadata": {
        "colab": {
          "base_uri": "https://localhost:8080/"
        },
        "id": "WM_WQO6F2BMo",
        "outputId": "1f5c6583-7592-4f45-a5af-714a3486e007"
      },
      "id": "WM_WQO6F2BMo",
      "execution_count": null,
      "outputs": [
        {
          "output_type": "execute_result",
          "data": {
            "text/plain": [
              "{2: 45, 'Today': '22 deg C', 'Yesterday': '24 deg C'}"
            ]
          },
          "metadata": {},
          "execution_count": 57
        }
      ]
    },
    {
      "cell_type": "code",
      "source": [
        "temp2"
      ],
      "metadata": {
        "colab": {
          "base_uri": "https://localhost:8080/"
        },
        "id": "SNiTs7cG2Dy4",
        "outputId": "76cae95d-d83e-4c15-eacd-adfb336c0148"
      },
      "id": "SNiTs7cG2Dy4",
      "execution_count": null,
      "outputs": [
        {
          "output_type": "execute_result",
          "data": {
            "text/plain": [
              "{'Tomorrow': 'Unknown'}"
            ]
          },
          "metadata": {},
          "execution_count": 44
        }
      ]
    },
    {
      "cell_type": "markdown",
      "source": [
        ""
      ],
      "metadata": {
        "id": "-L1Zbcib2A8w"
      },
      "id": "-L1Zbcib2A8w"
    },
    {
      "cell_type": "code",
      "execution_count": null,
      "id": "3d201101-f8a2-4438-b5ff-fa9236c33934",
      "metadata": {
        "id": "3d201101-f8a2-4438-b5ff-fa9236c33934",
        "colab": {
          "base_uri": "https://localhost:8080/"
        },
        "outputId": "358cce9b-a2ec-420c-9e03-d5c8a14808df"
      },
      "outputs": [
        {
          "output_type": "stream",
          "name": "stdout",
          "text": [
            "22 deg C\n",
            "23 deg C\n"
          ]
        }
      ],
      "source": [
        "# Mutability\n",
        "print(temp1['Today'])\n",
        "temp1['Today'] = '23 deg C'\n",
        "print(temp1.get('Today'))"
      ]
    },
    {
      "cell_type": "code",
      "execution_count": null,
      "id": "647f21d9-cfdb-4c06-87c5-d0c25453fc40",
      "metadata": {
        "id": "647f21d9-cfdb-4c06-87c5-d0c25453fc40",
        "colab": {
          "base_uri": "https://localhost:8080/"
        },
        "outputId": "86a201ff-991e-4310-854a-2353fc91cb7a"
      },
      "outputs": [
        {
          "output_type": "stream",
          "name": "stdout",
          "text": [
            "The key is 2 and the value is 45\n",
            "The key is 2 and the value is 45\n",
            "The key is 2 and the value is 45\n"
          ]
        }
      ],
      "source": [
        "# iteratability of a dictionary\n",
        "for i in temp1:\n",
        "    print('The key is',key,'and the value is', temp1[key])"
      ]
    },
    {
      "cell_type": "code",
      "execution_count": null,
      "id": "717a2b5b-35cf-4dc4-9009-c69f37aba69e",
      "metadata": {
        "id": "717a2b5b-35cf-4dc4-9009-c69f37aba69e",
        "colab": {
          "base_uri": "https://localhost:8080/"
        },
        "outputId": "b88368d7-284b-48eb-90b2-7413bf57be8c"
      },
      "outputs": [
        {
          "output_type": "execute_result",
          "data": {
            "text/plain": [
              "True"
            ]
          },
          "metadata": {},
          "execution_count": 47
        }
      ],
      "source": [
        "'Today' in temp1"
      ]
    },
    {
      "cell_type": "code",
      "execution_count": null,
      "id": "083ff4e0-60e3-4588-b631-b9fa75a7e533",
      "metadata": {
        "id": "083ff4e0-60e3-4588-b631-b9fa75a7e533"
      },
      "outputs": [],
      "source": [
        "### Indexing Sequence"
      ]
    },
    {
      "cell_type": "code",
      "execution_count": null,
      "id": "095ef998-a03f-4286-b885-ac6d05c5be11",
      "metadata": {
        "id": "095ef998-a03f-4286-b885-ac6d05c5be11",
        "colab": {
          "base_uri": "https://localhost:8080/"
        },
        "outputId": "83179701-7a82-48ea-966f-460ab5ca19c3"
      },
      "outputs": [
        {
          "output_type": "stream",
          "name": "stdout",
          "text": [
            "l\n"
          ]
        }
      ],
      "source": [
        "word_1 = 'Hello Everyone!!' \n",
        "print(word_1[3])"
      ]
    },
    {
      "cell_type": "code",
      "execution_count": null,
      "id": "91eb5db9-0314-47b6-9114-0a158eb070ad",
      "metadata": {
        "id": "91eb5db9-0314-47b6-9114-0a158eb070ad",
        "colab": {
          "base_uri": "https://localhost:8080/"
        },
        "outputId": "391f5661-39f9-4515-b753-cb99fa36b211"
      },
      "outputs": [
        {
          "output_type": "stream",
          "name": "stdout",
          "text": [
            "e\n"
          ]
        }
      ],
      "source": [
        "print(word_1[-3])"
      ]
    },
    {
      "cell_type": "code",
      "execution_count": null,
      "id": "c1833cf2-6421-42e5-8b88-e5a8250ed550",
      "metadata": {
        "id": "c1833cf2-6421-42e5-8b88-e5a8250ed550"
      },
      "outputs": [],
      "source": [
        "### Slicing sequence"
      ]
    },
    {
      "cell_type": "code",
      "execution_count": null,
      "metadata": {
        "colab": {
          "base_uri": "https://localhost:8080/"
        },
        "outputId": "6dd7193d-bf76-48db-9d19-944d8f5de01e",
        "id": "aHsmqB63DkzW"
      },
      "outputs": [
        {
          "output_type": "stream",
          "name": "stdout",
          "text": [
            "before Slicing Hello Everyone!!\n",
            "Hl\n"
          ]
        }
      ],
      "source": [
        "word_1 = 'Hello Everyone!!'   #string\n",
        "print(\"before Slicing\",word_1)\n",
        "print(word_1[0:4:2])  #[start:end:skip]"
      ],
      "id": "aHsmqB63DkzW"
    },
    {
      "cell_type": "code",
      "execution_count": null,
      "id": "49169788-fe8d-4686-9698-dab1f6cd6642",
      "metadata": {
        "id": "49169788-fe8d-4686-9698-dab1f6cd6642",
        "colab": {
          "base_uri": "https://localhost:8080/",
          "height": 36
        },
        "outputId": "d594c962-fff5-41be-8c76-2aaf11965055"
      },
      "outputs": [
        {
          "output_type": "execute_result",
          "data": {
            "text/plain": [
              "'Hello'"
            ],
            "application/vnd.google.colaboratory.intrinsic+json": {
              "type": "string"
            }
          },
          "metadata": {},
          "execution_count": 52
        }
      ],
      "source": [
        "word_2 = word_1[0:5]\n",
        "word_2"
      ]
    },
    {
      "cell_type": "code",
      "execution_count": null,
      "id": "d20cb29e-b5ba-45a6-bd11-c2b1b3effcb7",
      "metadata": {
        "id": "d20cb29e-b5ba-45a6-bd11-c2b1b3effcb7",
        "colab": {
          "base_uri": "https://localhost:8080/"
        },
        "outputId": "4e827a5f-844f-493c-e156-b367838048e3"
      },
      "outputs": [
        {
          "output_type": "stream",
          "name": "stdout",
          "text": [
            "Hello Everyone\n"
          ]
        }
      ],
      "source": [
        "print(word_1[:-2])"
      ]
    },
    {
      "cell_type": "markdown",
      "source": [
        "### Loops\n",
        " \n",
        " - Loops are helpful to iterate a set of statements \n",
        " - Three different loops discussed:\n",
        "    - For loop\n",
        "    - While loop\n",
        "    - if-else loop\n"
      ],
      "metadata": {
        "id": "hgQOHYONKa1S"
      },
      "id": "hgQOHYONKa1S"
    },
    {
      "cell_type": "markdown",
      "source": [
        "#### For loop\n",
        "  To iterate a set of statements for a specific number of times (Based on the sequence)"
      ],
      "metadata": {
        "id": "A6NqHFn4LkNt"
      },
      "id": "A6NqHFn4LkNt"
    },
    {
      "cell_type": "code",
      "source": [
        "# Iterate using the range\n",
        "#n = 4\n",
        "for i in range(0,4):   #print from 0-4\n",
        "    print(i)"
      ],
      "metadata": {
        "id": "ilBdtcsnKahT",
        "colab": {
          "base_uri": "https://localhost:8080/"
        },
        "outputId": "e4f2b2df-09e7-44c5-e377-175f7e4296c3"
      },
      "id": "ilBdtcsnKahT",
      "execution_count": null,
      "outputs": [
        {
          "output_type": "stream",
          "name": "stdout",
          "text": [
            "0\n",
            "1\n",
            "2\n",
            "3\n"
          ]
        }
      ]
    },
    {
      "cell_type": "code",
      "source": [
        "# Iterate using the variable\n",
        "for i in range(1,10):\n",
        "\tprint(\"Hello World\")"
      ],
      "metadata": {
        "id": "_w0-EPt5KafS",
        "colab": {
          "base_uri": "https://localhost:8080/"
        },
        "outputId": "b4113b93-65de-462a-e619-bc52312375b8"
      },
      "id": "_w0-EPt5KafS",
      "execution_count": null,
      "outputs": [
        {
          "output_type": "stream",
          "name": "stdout",
          "text": [
            "Hello World\n",
            "Hello World\n",
            "Hello World\n",
            "Hello World\n",
            "Hello World\n",
            "Hello World\n",
            "Hello World\n",
            "Hello World\n",
            "Hello World\n"
          ]
        }
      ]
    },
    {
      "cell_type": "markdown",
      "source": [
        "#### While loop\n",
        "The statement will be executed until the condition is true"
      ],
      "metadata": {
        "id": "aNCiHbWo7nTf"
      },
      "id": "aNCiHbWo7nTf"
    },
    {
      "cell_type": "code",
      "source": [
        "count = 0      #while is recursive\n",
        "while count <= 5:\n",
        "  print('hello')\n",
        "  count=count+1"
      ],
      "metadata": {
        "colab": {
          "base_uri": "https://localhost:8080/"
        },
        "id": "u2etsGfR70ep",
        "outputId": "5a6c58fa-832e-41fc-c132-e72478ea006e"
      },
      "id": "u2etsGfR70ep",
      "execution_count": null,
      "outputs": [
        {
          "output_type": "stream",
          "name": "stdout",
          "text": [
            "hello\n",
            "hello\n",
            "hello\n",
            "hello\n",
            "hello\n",
            "hello\n"
          ]
        }
      ]
    },
    {
      "cell_type": "markdown",
      "source": [
        "#### if-else statement\n",
        "Based on the condition, the jobs will be executed"
      ],
      "metadata": {
        "id": "THAvCnNq8P_y"
      },
      "id": "THAvCnNq8P_y"
    },
    {
      "cell_type": "code",
      "source": [
        "a = int(input('Enter a value '))  #input()>>> used to get values\n",
        "if a % 2 == 0:\n",
        "  print(\"Even number\")\n",
        "else:\n",
        "  print(\"Odd number\")"
      ],
      "metadata": {
        "colab": {
          "base_uri": "https://localhost:8080/"
        },
        "id": "fI19mcjZ8Pn5",
        "outputId": "775d9b3c-0acc-4ffb-c48f-15ed51ca80cf"
      },
      "id": "fI19mcjZ8Pn5",
      "execution_count": null,
      "outputs": [
        {
          "output_type": "stream",
          "name": "stdout",
          "text": [
            "Enter a value 3\n",
            "Odd number\n"
          ]
        }
      ]
    },
    {
      "cell_type": "markdown",
      "source": [
        "**Exercise questions**\n",
        "\n",
        "Write a code to check whether the year obtained is leap year or not"
      ],
      "metadata": {
        "id": "wzuIqDccy_ok"
      },
      "id": "wzuIqDccy_ok"
    },
    {
      "cell_type": "markdown",
      "id": "744bdc16-e8f6-429a-b274-215e62149dc0",
      "metadata": {
        "jp-MarkdownHeadingCollapsed": true,
        "tags": [],
        "id": "744bdc16-e8f6-429a-b274-215e62149dc0"
      },
      "source": [
        "### Defining a function"
      ]
    },
    {
      "cell_type": "code",
      "execution_count": null,
      "id": "1411996a-dea8-453a-801e-f6d20ad0f761",
      "metadata": {
        "id": "1411996a-dea8-453a-801e-f6d20ad0f761"
      },
      "outputs": [],
      "source": [
        "# Function to add two numbers\n",
        "def add_numbers(x, y):\n",
        "    return x - y"
      ]
    },
    {
      "cell_type": "code",
      "execution_count": null,
      "id": "4209e3e3-15b6-430a-aee4-ef37fcb77b99",
      "metadata": {
        "id": "4209e3e3-15b6-430a-aee4-ef37fcb77b99",
        "colab": {
          "base_uri": "https://localhost:8080/"
        },
        "outputId": "59072f90-36bd-4388-fe37-b62dbdca202e"
      },
      "outputs": [
        {
          "output_type": "execute_result",
          "data": {
            "text/plain": [
              "-1"
            ]
          },
          "metadata": {},
          "execution_count": 16
        }
      ],
      "source": [
        "# Calling a function\n",
        "add_numbers(1, 2)"
      ]
    },
    {
      "cell_type": "code",
      "source": [
        "def area(a):\n",
        "  area=a*a\n",
        "  print(\"Area of Square\",area)\n",
        "\n",
        "area(4)"
      ],
      "metadata": {
        "colab": {
          "base_uri": "https://localhost:8080/"
        },
        "id": "uP64nYEbMrCs",
        "outputId": "ca4d3f2f-394a-46a8-ae67-e40f21f6df67"
      },
      "id": "uP64nYEbMrCs",
      "execution_count": null,
      "outputs": [
        {
          "output_type": "stream",
          "name": "stdout",
          "text": [
            "Area of Square 16\n"
          ]
        }
      ]
    },
    {
      "cell_type": "code",
      "execution_count": null,
      "id": "471439fe-b994-4640-a687-32ed0645ace4",
      "metadata": {
        "id": "471439fe-b994-4640-a687-32ed0645ace4"
      },
      "outputs": [],
      "source": [
        "def add_numbers2(x, y):\n",
        "    print(x + y)"
      ]
    },
    {
      "cell_type": "code",
      "execution_count": null,
      "id": "fc62a61a-5cf8-458b-b459-6f45a2ccb995",
      "metadata": {
        "id": "fc62a61a-5cf8-458b-b459-6f45a2ccb995",
        "colab": {
          "base_uri": "https://localhost:8080/"
        },
        "outputId": "da86e162-9888-44d2-b8b2-b65775ce7767"
      },
      "outputs": [
        {
          "output_type": "stream",
          "name": "stdout",
          "text": [
            "3\n"
          ]
        }
      ],
      "source": [
        "add_numbers2(1, 2)"
      ]
    },
    {
      "cell_type": "code",
      "execution_count": null,
      "id": "6407e4a0-292b-4690-a07e-d2ddb2c21604",
      "metadata": {
        "id": "6407e4a0-292b-4690-a07e-d2ddb2c21604"
      },
      "outputs": [],
      "source": [
        "z1 = add_numbers\n",
        "z1(2,2)"
      ]
    },
    {
      "cell_type": "markdown",
      "source": [
        "**Exercise questions**\n",
        "\n",
        "Write a function using the above code to print whether the given year is leap or not"
      ],
      "metadata": {
        "id": "7O2JtJCQyy2-"
      },
      "id": "7O2JtJCQyy2-"
    },
    {
      "cell_type": "markdown",
      "id": "a1106831-404f-4cb4-bc79-6d53d99af8cc",
      "metadata": {
        "jp-MarkdownHeadingCollapsed": true,
        "tags": [],
        "id": "a1106831-404f-4cb4-bc79-6d53d99af8cc"
      },
      "source": [
        "#Sample Package usage"
      ]
    },
    {
      "cell_type": "code",
      "execution_count": 3,
      "id": "a05fa790-349b-4603-b363-e986ea6756c7",
      "metadata": {
        "id": "a05fa790-349b-4603-b363-e986ea6756c7"
      },
      "outputs": [],
      "source": [
        "# importing the package numpy\n",
        "import numpy as np\n",
        "import matplotlib.pyplot as plt    #visualization Package "
      ]
    },
    {
      "cell_type": "code",
      "execution_count": 4,
      "id": "3b4bc8b6-175f-4d1b-9af2-0a71a0fea67f",
      "metadata": {
        "id": "3b4bc8b6-175f-4d1b-9af2-0a71a0fea67f",
        "colab": {
          "base_uri": "https://localhost:8080/"
        },
        "outputId": "8da3e675-9c47-4f6e-fe69-3d4107c70592"
      },
      "outputs": [
        {
          "output_type": "stream",
          "name": "stdout",
          "text": [
            "[7 8 9]\n",
            "[[1. 0. 0. 0. 0.]\n",
            " [0. 1. 0. 0. 0.]\n",
            " [0. 0. 1. 0. 0.]\n",
            " [0. 0. 0. 1. 0.]\n",
            " [0. 0. 0. 0. 1.]]\n"
          ]
        }
      ],
      "source": [
        "print(np.array([7,8,9])) # printing an array created using numpy package #one dimensional array\n",
        "print(np.eye(5)) # Creates an identity matrix"
      ]
    },
    {
      "cell_type": "code",
      "execution_count": 6,
      "id": "592918e5-98a8-4c34-ab0c-695c213d5e0d",
      "metadata": {
        "id": "592918e5-98a8-4c34-ab0c-695c213d5e0d",
        "colab": {
          "base_uri": "https://localhost:8080/"
        },
        "outputId": "5276bcb8-7bbb-403c-ecfc-96ac1c9ac20b"
      },
      "outputs": [
        {
          "output_type": "stream",
          "name": "stdout",
          "text": [
            "[5 3 8]\n",
            "[-5 -1 -4]\n",
            "[ 0  2 12]\n",
            "[0.         0.5        0.33333333]\n",
            "14\n"
          ]
        }
      ],
      "source": [
        "x = np.array([0,1,2])\n",
        "y = np.array([5,2,6])\n",
        "\n",
        "print(x+y)         # elementwise Addition\n",
        "print(x-y)         # elementwise Subtraction\n",
        "print(x*y)         # elementwise Multiplication\n",
        "print(x/y)         # elementwise Division\n",
        "print(x.dot(y))    # dot product  "
      ]
    },
    {
      "cell_type": "code",
      "execution_count": 7,
      "id": "46725467-bf99-4401-b6c8-1e094abb1250",
      "metadata": {
        "id": "46725467-bf99-4401-b6c8-1e094abb1250"
      },
      "outputs": [],
      "source": [
        "# importing only a variable from a package\n",
        "from math import pi       # Math-class    #Package-Pi"
      ]
    },
    {
      "cell_type": "code",
      "execution_count": null,
      "id": "a1c7e4c7-6955-49eb-81f8-96c687605b68",
      "metadata": {
        "id": "a1c7e4c7-6955-49eb-81f8-96c687605b68",
        "colab": {
          "base_uri": "https://localhost:8080/"
        },
        "outputId": "bbfda1e3-7015-49a6-b008-10c359840227"
      },
      "outputs": [
        {
          "output_type": "stream",
          "name": "stdout",
          "text": [
            "3.141592653589793\n"
          ]
        }
      ],
      "source": [
        "print(pi)"
      ]
    },
    {
      "cell_type": "markdown",
      "source": [
        "**Sample Programs:**"
      ],
      "metadata": {
        "id": "c_6FqLKnvU1M"
      },
      "id": "c_6FqLKnvU1M"
    },
    {
      "cell_type": "code",
      "source": [
        "# Enter number of terms needed                   #0,1,1,2,3,5....\n",
        "a=int(input(\"Enter the terms\"))\n",
        "f=0                                         #first element of series\n",
        "s=1                                         #second element of series\n",
        "if a<=0:\n",
        "    print(\"The requested series is \",f)\n",
        "else:\n",
        "    print(f,s,end=\" \")\n",
        "    for x in range(2,a):\n",
        "        next=f+s                           \n",
        "        print(next,end=\" \")\n",
        "        f=s\n",
        "        s=next"
      ],
      "metadata": {
        "colab": {
          "base_uri": "https://localhost:8080/"
        },
        "id": "Ka4NJ9yVEQGU",
        "outputId": "9b8ae52f-0834-4563-e70d-5e371ab9827f"
      },
      "id": "Ka4NJ9yVEQGU",
      "execution_count": null,
      "outputs": [
        {
          "output_type": "stream",
          "name": "stdout",
          "text": [
            "Enter the terms5\n",
            "0 1 1 2 3 "
          ]
        }
      ]
    },
    {
      "cell_type": "code",
      "source": [
        "# Python program for simple calculator\n",
        "\n",
        "# Function to add two numbers\n",
        "def add(num1, num2):\n",
        "\treturn num1 + num2\n",
        "\n",
        "# Function to subtract two numbers\n",
        "def subtract(num1, num2):\n",
        "\treturn num1 - num2\n",
        "\n",
        "# Function to multiply two numbers\n",
        "def multiply(num1, num2):\n",
        "\treturn num1 * num2\n",
        "\n",
        "# Function to divide two numbers\n",
        "def divide(num1, num2):\n",
        "\treturn num1 / num2\n",
        "\n",
        "print(\"Please select operation -\\n\" \\\n",
        "\t\t\"1. Add\\n\" \\\n",
        "\t\t\"2. Subtract\\n\" \\\n",
        "\t\t\"3. Multiply\\n\" \\\n",
        "\t\t\"4. Divide\\n\")\n",
        "\n",
        "\n",
        "# Take input from the user\n",
        "select = int(input(\"Select operations form 1, 2, 3, 4 :\"))\n",
        "\n",
        "number_1 = int(input(\"Enter first number: \"))\n",
        "number_2 = int(input(\"Enter second number: \"))\n",
        "\n",
        "if select == 1:\n",
        "\tprint(number_1, \"+\", number_2, \"=\",\n",
        "\t\t\t\t\tadd(number_1, number_2))\n",
        "\n",
        "elif select == 2:\n",
        "\tprint(number_1, \"-\", number_2, \"=\",\n",
        "\t\t\t\t\tsubtract(number_1, number_2))\n",
        "\n",
        "elif select == 3:\n",
        "\tprint(number_1, \"*\", number_2, \"=\",\n",
        "\t\t\t\t\tmultiply(number_1, number_2))\n",
        "\n",
        "elif select == 4:\n",
        "\tprint(number_1, \"/\", number_2, \"=\",\n",
        "\t\t\t\t\tdivide(number_1, number_2))\n",
        "else:\n",
        "\tprint(\"Invalid input\")\n"
      ],
      "metadata": {
        "colab": {
          "base_uri": "https://localhost:8080/"
        },
        "id": "KZLdMXsLFuP1",
        "outputId": "73217cbd-9f89-46d9-bf5f-d0360e840865"
      },
      "id": "KZLdMXsLFuP1",
      "execution_count": null,
      "outputs": [
        {
          "output_type": "stream",
          "name": "stdout",
          "text": [
            "Please select operation -\n",
            "1. Add\n",
            "2. Subtract\n",
            "3. Multiply\n",
            "4. Divide\n",
            "\n",
            "Select operations form 1, 2, 3, 4 :1\n",
            "Enter first number: 10\n",
            "Enter second number: 20\n",
            "10 + 20 = 30\n"
          ]
        }
      ]
    },
    {
      "cell_type": "code",
      "source": [
        ""
      ],
      "metadata": {
        "id": "lxCzs5GzOJJE"
      },
      "id": "lxCzs5GzOJJE",
      "execution_count": null,
      "outputs": []
    }
  ],
  "metadata": {
    "kernelspec": {
      "display_name": "Python 3 (ipykernel)",
      "language": "python",
      "name": "python3"
    },
    "language_info": {
      "codemirror_mode": {
        "name": "ipython",
        "version": 3
      },
      "file_extension": ".py",
      "mimetype": "text/x-python",
      "name": "python",
      "nbconvert_exporter": "python",
      "pygments_lexer": "ipython3",
      "version": "3.8.10"
    },
    "colab": {
      "name": "Python Basics.ipynb",
      "provenance": [],
      "collapsed_sections": [
        "23d1f132-ade5-4eb5-9ff3-5180ebe4dc7f",
        "f908f16d-cb3c-47e9-82df-78857f32e1b9",
        "223ac19f-217b-4891-b70b-292434801aba",
        "e129f40f-a3ac-442f-9698-b0fd63b14d7f",
        "387c1e29-8621-4734-a66a-5426fdb41871",
        "744bdc16-e8f6-429a-b274-215e62149dc0"
      ]
    }
  },
  "nbformat": 4,
  "nbformat_minor": 5
}