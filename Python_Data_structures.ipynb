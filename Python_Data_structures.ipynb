{
  "nbformat": 4,
  "nbformat_minor": 0,
  "metadata": {
    "colab": {
      "name": "Python_Data_structures.ipynb",
      "provenance": [],
      "collapsed_sections": []
    },
    "kernelspec": {
      "name": "python3",
      "display_name": "Python 3"
    },
    "language_info": {
      "name": "python"
    }
  },
  "cells": [
    {
      "cell_type": "markdown",
      "source": [
        "#Data Structures\n",
        "\n",
        "\n",
        "*   List\n",
        "*   Tuple\n",
        "*   String\n",
        "*   Set\n",
        "*   Dictionaries\n",
        "\n",
        "\n",
        "\n",
        "\n",
        "\n",
        "\n",
        "\n",
        "\n",
        "\n",
        "\n",
        "\n"
      ],
      "metadata": {
        "id": "bFl77FT-_qPI"
      }
    },
    {
      "cell_type": "markdown",
      "source": [
        "##List"
      ],
      "metadata": {
        "id": "vFNw-YLcYNUS"
      }
    },
    {
      "cell_type": "markdown",
      "source": [
        "###Useful functions for a list\n",
        "\n",
        "*   append(i) --> adds an element i in the list\n",
        "*   extend(lst) --> expands the list by including another list lst\n",
        "*   insert(i,j) --> inserts a new element j in specified index i\n",
        "*   sort() --> sorts the list\n",
        "*   remove(i) --> removes the element i in the list"
      ],
      "metadata": {
        "id": "xfy6MCnCZPWJ"
      }
    },
    {
      "cell_type": "code",
      "execution_count": 4,
      "metadata": {
        "id": "r_8MOY4LvZLM",
        "colab": {
          "base_uri": "https://localhost:8080/"
        },
        "outputId": "85ac4b7b-9f27-4ed1-a92e-54dbb529e8c8"
      },
      "outputs": [
        {
          "output_type": "stream",
          "name": "stdout",
          "text": [
            "['Welcome', 7, 9.99, ('Welcome', 'To'), ['Happy ', 'School']]\n"
          ]
        }
      ],
      "source": [
        "# creating a list\n",
        "list_1 = ['Welcome', 7, 9.99,('Welcome','To'),  [ 'Happy ', 'School']] # creating a list using square_brackets\n",
        "print(list_1)"
      ]
    },
    {
      "cell_type": "code",
      "source": [
        "# mutablility of the list --> values inside a list can be mutated/changed\n",
        "list_1[0] = 'Hello' # in python indexing begins with 0 instead of 1\n",
        "list_1[-1] = 'Course' # -1 refers to last element of the list\n",
        "print('The mutated list',list_1) \n",
        "print('first two items of the list',list_1[0:2]) "
      ],
      "metadata": {
        "colab": {
          "base_uri": "https://localhost:8080/"
        },
        "id": "U6QO31g__mcX",
        "outputId": "e17f919d-f9b8-4b03-adb1-a3cce85ea84b"
      },
      "execution_count": 5,
      "outputs": [
        {
          "output_type": "stream",
          "name": "stdout",
          "text": [
            "The mutated list ['Hello', 7, 9.99, ('Welcome', 'To'), 'Course']\n",
            "first two items of the list ['Hello', 7]\n"
          ]
        }
      ]
    },
    {
      "cell_type": "code",
      "source": [
        "# Iteratability of the list\n",
        "for i in list_1:\n",
        "    print(i)"
      ],
      "metadata": {
        "colab": {
          "base_uri": "https://localhost:8080/"
        },
        "id": "-9GRmY2G_mfx",
        "outputId": "671bbe13-bf7f-457f-8c5c-66ced32b8aaf"
      },
      "execution_count": 6,
      "outputs": [
        {
          "output_type": "stream",
          "name": "stdout",
          "text": [
            "Hello\n",
            "7\n",
            "9.99\n",
            "('Welcome', 'To')\n",
            "Course\n"
          ]
        }
      ]
    },
    {
      "cell_type": "markdown",
      "source": [
        "##Tuple"
      ],
      "metadata": {
        "id": "tmzNAdEcaP9Z"
      }
    },
    {
      "cell_type": "code",
      "source": [
        "# Creating a tuple object\n",
        "t1 = ('One',2,'Three',[4.0])\n",
        "t1"
      ],
      "metadata": {
        "colab": {
          "base_uri": "https://localhost:8080/"
        },
        "id": "2s_raAoaaQb_",
        "outputId": "d1a7663a-5054-4302-9bb6-d4e821ef3c8f"
      },
      "execution_count": 12,
      "outputs": [
        {
          "output_type": "execute_result",
          "data": {
            "text/plain": [
              "('One', 2, 'Three', [4.0])"
            ]
          },
          "metadata": {},
          "execution_count": 12
        }
      ]
    },
    {
      "cell_type": "code",
      "source": [
        "#Immutability of tuple\n",
        "t1[2]"
      ],
      "metadata": {
        "colab": {
          "base_uri": "https://localhost:8080/",
          "height": 36
        },
        "id": "jd_Uf5vWaWFF",
        "outputId": "ef134049-4834-477f-f50c-d4654c7e0ec8"
      },
      "execution_count": 13,
      "outputs": [
        {
          "output_type": "execute_result",
          "data": {
            "text/plain": [
              "'Three'"
            ],
            "application/vnd.google.colaboratory.intrinsic+json": {
              "type": "string"
            }
          },
          "metadata": {},
          "execution_count": 13
        }
      ]
    },
    {
      "cell_type": "code",
      "source": [
        "# iteratability of tuple\n",
        "for i in t1:\n",
        "    print(i)"
      ],
      "metadata": {
        "colab": {
          "base_uri": "https://localhost:8080/"
        },
        "id": "4zfKXBT3aWIy",
        "outputId": "c3293a6e-96f9-4dc6-b86f-3eb4d5da1d29"
      },
      "execution_count": 14,
      "outputs": [
        {
          "output_type": "stream",
          "name": "stdout",
          "text": [
            "One\n",
            "2\n",
            "Three\n",
            "[4.0]\n"
          ]
        }
      ]
    },
    {
      "cell_type": "markdown",
      "source": [
        "##Set"
      ],
      "metadata": {
        "id": "_d00eNsyab04"
      }
    },
    {
      "cell_type": "code",
      "source": [
        "set1 = {0,2,6,9,1,5,2,9,'a','abc'}\n",
        "set1"
      ],
      "metadata": {
        "colab": {
          "base_uri": "https://localhost:8080/"
        },
        "id": "eZvuJb3Gal3C",
        "outputId": "760d4be8-8c45-4bd9-bab0-e18eb0426600"
      },
      "execution_count": 15,
      "outputs": [
        {
          "output_type": "execute_result",
          "data": {
            "text/plain": [
              "{0, 1, 2, 5, 6, 9, 'a', 'abc'}"
            ]
          },
          "metadata": {},
          "execution_count": 15
        }
      ]
    },
    {
      "cell_type": "code",
      "source": [
        "set1 = {0,2,6,9,1,5,2,9,'a','abc'}\n",
        "set1  #unordered"
      ],
      "metadata": {
        "colab": {
          "base_uri": "https://localhost:8080/"
        },
        "id": "Hls9DLFBamAo",
        "outputId": "00857b58-82d8-4277-d663-a723fa7e2044"
      },
      "execution_count": 16,
      "outputs": [
        {
          "output_type": "execute_result",
          "data": {
            "text/plain": [
              "{0, 1, 2, 5, 6, 9, 'a', 'abc'}"
            ]
          },
          "metadata": {},
          "execution_count": 16
        }
      ]
    },
    {
      "cell_type": "code",
      "source": [
        "# iteratability of set\n",
        "for i in set1:\n",
        "    print(i)"
      ],
      "metadata": {
        "colab": {
          "base_uri": "https://localhost:8080/"
        },
        "id": "8qBcHVfWaQfa",
        "outputId": "f9b2e8bc-ae0c-4dd6-e110-2d44429a0c4a"
      },
      "execution_count": 17,
      "outputs": [
        {
          "output_type": "stream",
          "name": "stdout",
          "text": [
            "0\n",
            "1\n",
            "2\n",
            "5\n",
            "6\n",
            "9\n",
            "a\n",
            "abc\n"
          ]
        }
      ]
    },
    {
      "cell_type": "markdown",
      "source": [
        "Note:-set cannot store list in it (throws an error) and they cannot have duplicate items (it automatically removes '9' repeated twice). Also, the order is lost in a set."
      ],
      "metadata": {
        "id": "fkyJfcwyaruM"
      }
    },
    {
      "cell_type": "code",
      "source": [
        "set1[4] = 1 #since unordered"
      ],
      "metadata": {
        "colab": {
          "base_uri": "https://localhost:8080/",
          "height": 171
        },
        "id": "FVdvxNg3a4r2",
        "outputId": "465ccb3c-378a-4c37-eee3-9b20bea3b61c"
      },
      "execution_count": 18,
      "outputs": [
        {
          "output_type": "error",
          "ename": "TypeError",
          "evalue": "ignored",
          "traceback": [
            "\u001b[0;31m---------------------------------------------------------------------------\u001b[0m",
            "\u001b[0;31mTypeError\u001b[0m                                 Traceback (most recent call last)",
            "\u001b[0;32m<ipython-input-18-01bd0a658227>\u001b[0m in \u001b[0;36m<module>\u001b[0;34m\u001b[0m\n\u001b[0;32m----> 1\u001b[0;31m \u001b[0mset1\u001b[0m\u001b[0;34m[\u001b[0m\u001b[0;36m4\u001b[0m\u001b[0;34m]\u001b[0m \u001b[0;34m=\u001b[0m \u001b[0;36m1\u001b[0m \u001b[0;31m#since unordered\u001b[0m\u001b[0;34m\u001b[0m\u001b[0;34m\u001b[0m\u001b[0m\n\u001b[0m",
            "\u001b[0;31mTypeError\u001b[0m: 'set' object does not support item assignment"
          ]
        }
      ]
    },
    {
      "cell_type": "markdown",
      "source": [
        "Throws error because set is unordered"
      ],
      "metadata": {
        "id": "iqHbl13ka31B"
      }
    },
    {
      "cell_type": "code",
      "source": [
        "# Set is mutable but not using indices\n",
        "set1.remove(5)\n",
        "print(set1)\n",
        "set1.add(11)\n",
        "print(set1)"
      ],
      "metadata": {
        "colab": {
          "base_uri": "https://localhost:8080/"
        },
        "id": "Aau2L6WLbK52",
        "outputId": "b80d3fd0-045d-426a-d46d-70a7abdff19b"
      },
      "execution_count": 19,
      "outputs": [
        {
          "output_type": "stream",
          "name": "stdout",
          "text": [
            "{0, 1, 2, 6, 9, 'a', 'abc'}\n",
            "{0, 1, 2, 6, 9, 11, 'a', 'abc'}\n"
          ]
        }
      ]
    },
    {
      "cell_type": "markdown",
      "source": [
        "#Dictionary\n",
        "Dictionaries are also called “associative arrays” and “hash tables”. Dictionaries are unordered sets of key-value pairs."
      ],
      "metadata": {
        "id": "aVw2SsfCbQIH"
      }
    },
    {
      "cell_type": "code",
      "source": [
        "# Creating a dictionary\n",
        "temp1 = {'Today' : '22 deg C', 'Yesterday' : '24 deg C',2:45} \n",
        "temp2 = dict( Tomorrow = 'Unknown')"
      ],
      "metadata": {
        "id": "1ZmoN73mbK9N"
      },
      "execution_count": 20,
      "outputs": []
    },
    {
      "cell_type": "code",
      "source": [
        "# Creating a dictionary\n",
        "temp1 = {'Today' : '22 deg C', 'Yesterday' : '24 deg C',2:45} \n",
        "temp2 = dict( Tomorrow = 'Unknown')"
      ],
      "metadata": {
        "id": "YdLC-MNKbX2F"
      },
      "execution_count": 21,
      "outputs": []
    },
    {
      "cell_type": "code",
      "source": [
        "temp2"
      ],
      "metadata": {
        "colab": {
          "base_uri": "https://localhost:8080/"
        },
        "id": "M6kU2QXcbX4x",
        "outputId": "437353ab-afe7-4f2d-a024-d321a8511f96"
      },
      "execution_count": 22,
      "outputs": [
        {
          "output_type": "execute_result",
          "data": {
            "text/plain": [
              "{'Tomorrow': 'Unknown'}"
            ]
          },
          "metadata": {},
          "execution_count": 22
        }
      ]
    },
    {
      "cell_type": "code",
      "source": [
        "# Mutability\n",
        "print(temp1['Today'])\n",
        "temp1['Today'] = '23 deg C'\n",
        "print(temp1.get('Today'))"
      ],
      "metadata": {
        "colab": {
          "base_uri": "https://localhost:8080/"
        },
        "id": "sJpKKO3vbX77",
        "outputId": "2b69c37a-8b19-475c-97fe-961491f0f481"
      },
      "execution_count": 23,
      "outputs": [
        {
          "output_type": "stream",
          "name": "stdout",
          "text": [
            "22 deg C\n",
            "23 deg C\n"
          ]
        }
      ]
    },
    {
      "cell_type": "code",
      "source": [
        "# iteratability of a dictionary\n",
        "for i in temp1:\n",
        "    print('The key is',i,'and the value is', temp1[i])"
      ],
      "metadata": {
        "colab": {
          "base_uri": "https://localhost:8080/"
        },
        "id": "WhV4Tg59bYAj",
        "outputId": "6824e73d-45d5-445d-edbb-e3f774f55a16"
      },
      "execution_count": 30,
      "outputs": [
        {
          "output_type": "stream",
          "name": "stdout",
          "text": [
            "The key is Today and the value is 23 deg C\n",
            "The key is Yesterday and the value is 24 deg C\n",
            "The key is 2 and the value is 45\n"
          ]
        }
      ]
    },
    {
      "cell_type": "code",
      "source": [
        "'Today' in temp1"
      ],
      "metadata": {
        "colab": {
          "base_uri": "https://localhost:8080/"
        },
        "id": "n_vSwOoWbYDj",
        "outputId": "4e0f10d6-a23b-40e6-a945-e95548bcd406"
      },
      "execution_count": 31,
      "outputs": [
        {
          "output_type": "execute_result",
          "data": {
            "text/plain": [
              "True"
            ]
          },
          "metadata": {},
          "execution_count": 31
        }
      ]
    },
    {
      "cell_type": "markdown",
      "source": [
        "### Indexing Sequence"
      ],
      "metadata": {
        "id": "TzMA7gJLbtfV"
      }
    },
    {
      "cell_type": "code",
      "source": [
        "word_1 = 'Hello Everyone!!' \n",
        "print(word_1[3])"
      ],
      "metadata": {
        "colab": {
          "base_uri": "https://localhost:8080/"
        },
        "id": "Oo09rXhabYGv",
        "outputId": "ff506d7a-916e-4356-b4ff-9355325b8377"
      },
      "execution_count": 32,
      "outputs": [
        {
          "output_type": "stream",
          "name": "stdout",
          "text": [
            "l\n"
          ]
        }
      ]
    },
    {
      "cell_type": "code",
      "source": [
        "print(word_1[-3])"
      ],
      "metadata": {
        "colab": {
          "base_uri": "https://localhost:8080/"
        },
        "id": "Z25LYtEvbYKx",
        "outputId": "cec81097-ba0b-4fc1-f808-6ec8a16a8666"
      },
      "execution_count": 33,
      "outputs": [
        {
          "output_type": "stream",
          "name": "stdout",
          "text": [
            "e\n"
          ]
        }
      ]
    },
    {
      "cell_type": "markdown",
      "source": [
        "### Slicing sequence"
      ],
      "metadata": {
        "id": "Y6Y6wcT8bwgn"
      }
    },
    {
      "cell_type": "code",
      "source": [
        "word_1 = 'Hello Everyone!!'   #string\n",
        "print(\"before Slicing\",word_1)\n",
        "print(word_1[0:4:2])  #[start:end:skip]"
      ],
      "metadata": {
        "colab": {
          "base_uri": "https://localhost:8080/"
        },
        "id": "t62BHcd6bxA7",
        "outputId": "b134409d-86ae-4549-ffc2-cf9dcd715da8"
      },
      "execution_count": 34,
      "outputs": [
        {
          "output_type": "stream",
          "name": "stdout",
          "text": [
            "before Slicing Hello Everyone!!\n",
            "Hl\n"
          ]
        }
      ]
    },
    {
      "cell_type": "code",
      "source": [
        "print(word_1[:-2])"
      ],
      "metadata": {
        "colab": {
          "base_uri": "https://localhost:8080/"
        },
        "id": "F25qFTPPb2D_",
        "outputId": "9641697e-e42d-44f3-f9c9-02f033204d1d"
      },
      "execution_count": 36,
      "outputs": [
        {
          "output_type": "stream",
          "name": "stdout",
          "text": [
            "Hello Everyone\n"
          ]
        }
      ]
    }
  ]
}